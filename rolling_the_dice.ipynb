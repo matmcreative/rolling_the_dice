{
 "cells": [
  {
   "cell_type": "code",
   "execution_count": 40,
   "metadata": {},
   "outputs": [],
   "source": [
    "import matplotlib.pyplot as plt\n",
    "import numpy as np\n",
    "import random\n",
    "import math\n",
    "import sys"
   ]
  },
  {
   "cell_type": "code",
   "execution_count": 41,
   "metadata": {},
   "outputs": [],
   "source": [
    "def throw_die(data_list, times):\n",
    "    total = 0\n",
    "    for i in range(times):\n",
    "        num = random.randint(1,20)\n",
    "        total = total + num\n",
    "        data_list[num-1] = data_list[num-1] + 1\n",
    "    average = total * 1.0 / times\n",
    "    return average;"
   ]
  },
  {
   "cell_type": "code",
   "execution_count": 42,
   "metadata": {},
   "outputs": [
    {
     "name": "stdout",
     "output_type": "stream",
     "text": [
      "The average is  12.0\n"
     ]
    }
   ],
   "source": [
    "test_data = [0, 0, 0, 0, 0, 0, 0, 0, 0, 0, 0, 0, 0, 0, 0, 0, 0, 0, 0, 0]\n",
    "times = 1 \n",
    "average = throw_die(test_data,times)\n",
    "print (f\"The average is \",average)"
   ]
  },
  {
   "cell_type": "code",
   "execution_count": 36,
   "metadata": {},
   "outputs": [
    {
     "name": "stdout",
     "output_type": "stream",
     "text": [
      "Sample Data:  [8, 7, 3, 4, 1, 6, 7, 5, 5, 7, 1, 3, 3, 7, 5, 8, 2, 4, 8, 6]\n",
      "Standard Deviation :  2.2941573387056176\n"
     ]
    }
   ],
   "source": [
    "def sd_calc(test_data):\n",
    "    n = len(test_data)\n",
    "\n",
    "    if n <= 1:\n",
    "        return 0.0\n",
    "\n",
    "    mean, sd = avg_calc(test_data), 0.0\n",
    "\n",
    "    # calculate stan. dev.\n",
    "    for el in test_data:\n",
    "        sd += (float(el) - mean)**2\n",
    "    sd = math.sqrt(sd / float(n-1))\n",
    "\n",
    "    return sd\n",
    "\n",
    "def avg_calc(ls):\n",
    "    n, mean = len(ls), 0.0\n",
    "\n",
    "    if n <= 1:\n",
    "        return ls[0]\n",
    "\n",
    "    # calculate average\n",
    "    for el in ls:\n",
    "        mean = mean + float(el)\n",
    "    mean = mean / float(n)\n",
    "\n",
    "    return mean\n",
    "\n",
    "data = [4, 2, 5, 8, 6]\n",
    "print(\"Sample Data: \",test_data)\n",
    "print(\"Standard Deviation : \",sd_calc(test_data))"
   ]
  },
  {
   "cell_type": "code",
   "execution_count": 37,
   "metadata": {},
   "outputs": [
    {
     "data": {
      "image/png": "[encoded data removed]",
      "text/plain": [
       "<Figure size 432x288 with 1 Axes>"
      ]
     },
     "metadata": {
      "needs_background": "light"
     },
     "output_type": "display_data"
    }
   ],
   "source": [
    "ind = np.arange(20)  \n",
    "width = 0.5  \n",
    "fig, ax = plt.subplots()\n",
    "result = ax.bar(ind+width/2, test_data, width,color='r')\n",
    "ax.set_ylabel('Counts')\n",
    "ax.set_title('Throw a Die')\n",
    "ax.set_xticks(ind+width)\n",
    "ax.set_xticklabels( ('1', '2', '3', '4', '5','6', '7', '8', '9', '10', '11', '12', '13', '14', '15','16', '17', '18', '19', '20') )\n",
    "plt.show()"
   ]
  },
  {
   "cell_type": "code",
   "execution_count": null,
   "metadata": {},
   "outputs": [],
   "source": []
  }
 ],
 "metadata": {
  "kernelspec": {
   "display_name": "Python 3",
   "language": "python",
   "name": "python3"
  },
  "language_info": {
   "codemirror_mode": {
    "name": "ipython",
    "version": 3
   },
   "file_extension": ".py",
   "mimetype": "text/x-python",
   "name": "python",
   "nbconvert_exporter": "python",
   "pygments_lexer": "ipython3",
   "version": "3.7.6"
  }
 },
 "nbformat": 4,
 "nbformat_minor": 4
}
